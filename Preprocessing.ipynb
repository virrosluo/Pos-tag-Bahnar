{
 "cells": [
  {
   "cell_type": "code",
   "execution_count": 9,
   "metadata": {},
   "outputs": [],
   "source": [
    "import Preprocessing as pre\n",
    "import threading\n",
    "import concurrent"
   ]
  },
  {
   "cell_type": "code",
   "execution_count": 10,
   "metadata": {},
   "outputs": [],
   "source": [
    "# bahnar_token: List of tokens\n",
    "# bahnar_tag: List of tags\n",
    "def write_file(file_name, bahnar_token, bahnar_tag):\n",
    "    ### TODO: WRITE TO CSV FILE WITH\n",
    "    print(bahnar_token)"
   ]
  },
  {
   "cell_type": "code",
   "execution_count": 11,
   "metadata": {},
   "outputs": [],
   "source": [
    "# data[0]: Token\n",
    "# data[1]: Tag\n",
    "def Bahnar_tokentag(data):\n",
    "    bahnar_token = pre.translator(data[0])\n",
    "\n",
    "    mtx_lock.acquire()\n",
    "\n",
    "    # Write to the csv file\n",
    "    write_file(\"\", bahnar_token, data[1])\n",
    "\n",
    "    mtx_lock.release()"
   ]
  },
  {
   "cell_type": "code",
   "execution_count": 12,
   "metadata": {},
   "outputs": [
    {
     "name": "stdout",
     "output_type": "stream",
     "text": [
      "POST Request failed: \"Tôi\"\n",
      "POST Request failed: \"thích\"\n",
      "POST Request failed: \"mèo\"\n",
      "Fix \"Tôi\"\n",
      "Fix \"thích\"\n",
      "Fix \"mèo\"\n",
      "POST Request failed: \"nắng\"\n",
      "Fix \"nắng\"\n",
      "POST Request failed: \"một\"\n",
      "POST Request failed: \"người\"\n",
      "Fix \"người\"\n",
      "Fix \"một\"\n",
      "['inh', 'wă', 'sa', 'pơuh hla bơ al', 'mơmŏ', 'weng', 'bĕng mì', '.']\n",
      "['kon', 'meu', 'đơng', 'inh', 'tơpă', 'bônh thương', 'weng', 'jơliêng', '.']\n",
      "['anh', 'ơ̆i', 'jơh', 'ăn', 'ăn', 'inh', 'minh', 'chô̆', 'pơkau glang', 'gôh', '.']\n",
      "['anh', 'ơ̆i', 'jơh', 'tơkan', 'tơmang', 'inh', 'kơchang', 'inh', 'bi', 'jĭ', '.']\n",
      "[\"'nhŏng\", 'ơ̆i', 'la', 'minh', \"'nu\", 'linh', 'tai chĭnh', 'weng', 'jjn tai', '.']\n",
      "['inh', 'jơh', 'hok', \"'bỡl\", 'anh', 'đơ̆i', 'pêng', 'năm', \"'noh\", '.']\n",
      "['mai', 'ơ̆i', 'la', 'minh', 'yao viên', 'hơgăi', 'weng', 'amem bơnat', 'hok sinh', '.']\n",
      "[\"'năr adrơu\", 'plĕnh', 'tŏ', 'liêm', ',', 'inh', \"'moih\", 'năm', 'sơhmanh', 'kông viên', '.']\n",
      "['inh', 'wă', 'năm', 'jĕl', 'kơpưng', 'teh tơmăn', 'tơsĭ', 'tơmưt', \"'buôi\", 'rang', '.']\n",
      "['mai', 'ơ̆i', 'jơh', 'ruôt', 'ăn', 'inh', 'minh', 'drŏng', 'au', 'plĕch', 'mơ̆u', 'ksê', 'hla', 'long', '.']\n",
      "['mai', 'ơ̆i', 'jơh', 'năm', \"'yŭ lĭch\", 'jơ̆p', 'kơpal the đak', '.']\n",
      "['anh', 'ơ̆i', 'la', 'minh', 'krao akŏm viên', 'tơmo đá', 'đơng bơ̆l', '.']\n",
      "POST Request failed: \"thời trang\"\n",
      "['inh', 'wă', 'kơtơ̆ng', 'đâu phung', 'pop', 'weng', 'rock', '.']\n",
      "Fix \"thời trang\"\n",
      "['inh', 'jơh', 'ngŏ', 'minh', 'bô̆', 'phim', 'hyôk', 'tơpă', 'ngŏ hnhĕi', '.']\n",
      "['inh', 'jơh', 'sơhmanh', 'sơhmanh', 'điên tư', 'hơdĭng', 'bạn bè', '.']\n",
      "['mai', 'ơ̆i', 'la', 'minh', 'hnam', 'thiê̆t kê̆', 'jơnang', 'đơng', '.']\n",
      "['anh', 'ơ̆i', 'jơh', 'ơ̆p', 'ăn', 'inh', 'minh', 'wal', 'klăm', 'nham', '.']\n",
      "['mai', 'ơ̆i', 'jơh', 'chih', 'minh', 'pơđơng', 'sơ̆p hla bơ-al', 'lơm', 'lich sư', 'việt nam', '.']\n",
      "['anh', 'ơ̆i', 'jơh', 'oh', 'minh', 'tơdrong', 'oh', 'tơdrong yăl arih', 'ăn', 'inh', '.']\n",
      "['mai', 'ơ̆i', 'jơh', 'chih', 'minh', 'chô', 'hĭnh chih', 'liêm măt', 'lơm', 'sem blang', 'dôm', '.']\n"
     ]
    }
   ],
   "source": [
    "sentences = pre.read_file(\"Vietnamese.txt\")\n",
    "\n",
    "tokenize_tag_list = [pre.tokenize_tag(x) for x in sentences]\n",
    "\n",
    "mtx_lock = threading.Lock()\n",
    "with concurrent.futures.ThreadPoolExecutor(max_workers = 10) as executor:\n",
    "\n",
    "    for sentence in tokenize_tag_list:\n",
    "        executor.submit(Bahnar_tokentag, sentence)"
   ]
  },
  {
   "cell_type": "code",
   "execution_count": null,
   "metadata": {},
   "outputs": [],
   "source": []
  }
 ],
 "metadata": {
  "kernelspec": {
   "display_name": "Python 3",
   "language": "python",
   "name": "python3"
  },
  "language_info": {
   "codemirror_mode": {
    "name": "ipython",
    "version": 3
   },
   "file_extension": ".py",
   "mimetype": "text/x-python",
   "name": "python",
   "nbconvert_exporter": "python",
   "pygments_lexer": "ipython3",
   "version": "3.10.10"
  },
  "orig_nbformat": 4
 },
 "nbformat": 4,
 "nbformat_minor": 2
}
